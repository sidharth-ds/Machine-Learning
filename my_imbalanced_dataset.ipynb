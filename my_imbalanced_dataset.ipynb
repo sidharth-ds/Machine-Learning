{
  "nbformat": 4,
  "nbformat_minor": 0,
  "metadata": {
    "kernelspec": {
      "display_name": "Python 3",
      "language": "python",
      "name": "python3"
    },
    "language_info": {
      "codemirror_mode": {
        "name": "ipython",
        "version": 3
      },
      "file_extension": ".py",
      "mimetype": "text/x-python",
      "name": "python",
      "nbconvert_exporter": "python",
      "pygments_lexer": "ipython3",
      "version": "3.6.3"
    },
    "colab": {
      "name": "imbalanced_dataset_my.ipynb",
      "provenance": [],
      "collapsed_sections": []
    }
  },
  "cells": [
    {
      "cell_type": "markdown",
      "metadata": {
        "_cell_guid": "e38ddf38-d027-4eae-95c8-749f8f40db43",
        "_uuid": "1e287038acf96fc6d6825e77ba97b03f0824be0a",
        "id": "9ITqp2MjvGBQ"
      },
      "source": [
        "<h2 id=\"t1\" style=\"margin-bottom: 18px\">Imbalanced datasets</h2>\n"
      ]
    },
    {
      "cell_type": "code",
      "metadata": {
        "_cell_guid": "3b84706a-1eb0-435f-b1ff-3f1732cc3ae4",
        "_uuid": "63eb4f34b9a7d5106da4fe6c1c871bb0025c1ae4",
        "colab": {
          "base_uri": "https://localhost:8080/",
          "height": 330
        },
        "id": "YrMBkfsyvGBR",
        "outputId": "a6fdfe10-7892-4c67-ebc5-01f8a6882d47"
      },
      "source": [
        "import numpy as np\n",
        "import pandas as pd\n",
        "\n",
        "df_train = pd.read_csv('train.csv')\n",
        "df_train\n",
        "\n",
        "target_count = df_train.target.value_counts()\n",
        "print('Class 0:', target_count[0])\n",
        "print('Class 1:', target_count[1])\n",
        "print('Proportion of class 0 is ', round(target_count[0] * 100 / (target_count[1] + target_count[0]), 2),'%')\n",
        "\n",
        "target_count.plot(kind='bar', title='Count (target)');"
      ],
      "execution_count": null,
      "outputs": [
        {
          "output_type": "stream",
          "name": "stdout",
          "text": [
            "Class 0: 166469\n",
            "Class 1: 6365\n",
            "Proportion of class 0 is  96.32 %\n"
          ]
        },
        {
          "output_type": "display_data",
          "data": {
            "text/plain": [
              "<Figure size 432x288 with 1 Axes>"
            ],
            "image/png": "[encoded data removed]"
          },
          "metadata": {
            "needs_background": "light"
          }
        }
      ]
    },
    {
      "cell_type": "code",
      "metadata": {
        "colab": {
          "base_uri": "https://localhost:8080/",
          "height": 487
        },
        "id": "5TTvTxg5wiRK",
        "outputId": "e26d9768-7bd4-461f-97f8-3524f96dead5"
      },
      "source": [
        "df_train"
      ],
      "execution_count": null,
      "outputs": [
        {
          "output_type": "execute_result",
          "data": {
            "text/plain": [
              "            id  target  ps_ind_01  ps_ind_02_cat  ps_ind_03  ps_ind_04_cat  \\\n",
              "0            7       0          2              2          5              1   \n",
              "1            9       0          1              1          7              0   \n",
              "2           13       0          5              4          9              1   \n",
              "3           16       0          0              1          2              0   \n",
              "4           17       0          0              2          0              1   \n",
              "...        ...     ...        ...            ...        ...            ...   \n",
              "172829  431930       0          1              1          2              0   \n",
              "172830  431933       0          0              1          1              0   \n",
              "172831  431936       0          0              1          7              1   \n",
              "172832  431938       0          1              1          2              1   \n",
              "172833  431939       0          3              1          4              0   \n",
              "\n",
              "        ps_ind_05_cat  ps_ind_06_bin  ps_ind_07_bin  ps_ind_08_bin  ...  \\\n",
              "0                   0              0              1              0  ...   \n",
              "1                   0              0              0              1  ...   \n",
              "2                   0              0              0              1  ...   \n",
              "3                   0              1              0              0  ...   \n",
              "4                   0              1              0              0  ...   \n",
              "...               ...            ...            ...            ...  ...   \n",
              "172829              0              1              0              0  ...   \n",
              "172830              0              0              1              0  ...   \n",
              "172831              6              0              1              0  ...   \n",
              "172832              0              1              0              0  ...   \n",
              "172833              0              0              0              0  ...   \n",
              "\n",
              "        ps_calc_11  ps_calc_12  ps_calc_13  ps_calc_14  ps_calc_15_bin  \\\n",
              "0              9.0         1.0         5.0         8.0             0.0   \n",
              "1              3.0         1.0         1.0         9.0             0.0   \n",
              "2              4.0         2.0         7.0         7.0             0.0   \n",
              "3              2.0         2.0         4.0         9.0             0.0   \n",
              "4              3.0         1.0         1.0         3.0             0.0   \n",
              "...            ...         ...         ...         ...             ...   \n",
              "172829         4.0         2.0         2.0         8.0             1.0   \n",
              "172830         5.0         0.0         1.0         6.0             0.0   \n",
              "172831         5.0         1.0         1.0        10.0             0.0   \n",
              "172832         3.0         4.0         1.0        11.0             0.0   \n",
              "172833         NaN         NaN         NaN         NaN             NaN   \n",
              "\n",
              "        ps_calc_16_bin  ps_calc_17_bin  ps_calc_18_bin  ps_calc_19_bin  \\\n",
              "0                  1.0             1.0             0.0             0.0   \n",
              "1                  1.0             1.0             0.0             1.0   \n",
              "2                  1.0             1.0             0.0             1.0   \n",
              "3                  0.0             0.0             0.0             0.0   \n",
              "4                  0.0             0.0             1.0             1.0   \n",
              "...                ...             ...             ...             ...   \n",
              "172829             1.0             1.0             0.0             0.0   \n",
              "172830             1.0             0.0             0.0             0.0   \n",
              "172831             1.0             1.0             1.0             1.0   \n",
              "172832             1.0             1.0             0.0             1.0   \n",
              "172833             NaN             NaN             NaN             NaN   \n",
              "\n",
              "        ps_calc_20_bin  \n",
              "0                  1.0  \n",
              "1                  0.0  \n",
              "2                  0.0  \n",
              "3                  0.0  \n",
              "4                  0.0  \n",
              "...                ...  \n",
              "172829             0.0  \n",
              "172830             0.0  \n",
              "172831             0.0  \n",
              "172832             0.0  \n",
              "172833             NaN  \n",
              "\n",
              "[172834 rows x 59 columns]"
            ],
            "text/html": [
              "\n",
              "  <div id=\"df-22683199-f624-4ebd-af75-5e9fc4150d64\">\n",
              "    <div class=\"colab-df-container\">\n",
              "      <div>\n",
              "<style scoped>\n",
              "    .dataframe tbody tr th:only-of-type {\n",
              "        vertical-align: middle;\n",
              "    }\n",
              "\n",
              "    .dataframe tbody tr th {\n",
              "        vertical-align: top;\n",
              "    }\n",
              "\n",
              "    .dataframe thead th {\n",
              "        text-align: right;\n",
              "    }\n",
              "</style>\n",
              "<table border=\"1\" class=\"dataframe\">\n",
              "  <thead>\n",
              "    <tr style=\"text-align: right;\">\n",
              "      <th></th>\n",
              "      <th>id</th>\n",
              "      <th>target</th>\n",
              "      <th>ps_ind_01</th>\n",
              "      <th>ps_ind_02_cat</th>\n",
              "      <th>ps_ind_03</th>\n",
              "      <th>ps_ind_04_cat</th>\n",
              "      <th>ps_ind_05_cat</th>\n",
              "      <th>ps_ind_06_bin</th>\n",
              "      <th>ps_ind_07_bin</th>\n",
              "      <th>ps_ind_08_bin</th>\n",
              "      <th>...</th>\n",
              "      <th>ps_calc_11</th>\n",
              "      <th>ps_calc_12</th>\n",
              "      <th>ps_calc_13</th>\n",
              "      <th>ps_calc_14</th>\n",
              "      <th>ps_calc_15_bin</th>\n",
              "      <th>ps_calc_16_bin</th>\n",
              "      <th>ps_calc_17_bin</th>\n",
              "      <th>ps_calc_18_bin</th>\n",
              "      <th>ps_calc_19_bin</th>\n",
              "      <th>ps_calc_20_bin</th>\n",
              "    </tr>\n",
              "  </thead>\n",
              "  <tbody>\n",
              "    <tr>\n",
              "      <th>0</th>\n",
              "      <td>7</td>\n",
              "      <td>0</td>\n",
              "      <td>2</td>\n",
              "      <td>2</td>\n",
              "      <td>5</td>\n",
              "      <td>1</td>\n",
              "      <td>0</td>\n",
              "      <td>0</td>\n",
              "      <td>1</td>\n",
              "      <td>0</td>\n",
              "      <td>...</td>\n",
              "      <td>9.0</td>\n",
              "      <td>1.0</td>\n",
              "      <td>5.0</td>\n",
              "      <td>8.0</td>\n",
              "      <td>0.0</td>\n",
              "      <td>1.0</td>\n",
              "      <td>1.0</td>\n",
              "      <td>0.0</td>\n",
              "      <td>0.0</td>\n",
              "      <td>1.0</td>\n",
              "    </tr>\n",
              "    <tr>\n",
              "      <th>1</th>\n",
              "      <td>9</td>\n",
              "      <td>0</td>\n",
              "      <td>1</td>\n",
              "      <td>1</td>\n",
              "      <td>7</td>\n",
              "      <td>0</td>\n",
              "      <td>0</td>\n",
              "      <td>0</td>\n",
              "      <td>0</td>\n",
              "      <td>1</td>\n",
              "      <td>...</td>\n",
              "      <td>3.0</td>\n",
              "      <td>1.0</td>\n",
              "      <td>1.0</td>\n",
              "      <td>9.0</td>\n",
              "      <td>0.0</td>\n",
              "      <td>1.0</td>\n",
              "      <td>1.0</td>\n",
              "      <td>0.0</td>\n",
              "      <td>1.0</td>\n",
              "      <td>0.0</td>\n",
              "    </tr>\n",
              "    <tr>\n",
              "      <th>2</th>\n",
              "      <td>13</td>\n",
              "      <td>0</td>\n",
              "      <td>5</td>\n",
              "      <td>4</td>\n",
              "      <td>9</td>\n",
              "      <td>1</td>\n",
              "      <td>0</td>\n",
              "      <td>0</td>\n",
              "      <td>0</td>\n",
              "      <td>1</td>\n",
              "      <td>...</td>\n",
              "      <td>4.0</td>\n",
              "      <td>2.0</td>\n",
              "      <td>7.0</td>\n",
              "      <td>7.0</td>\n",
              "      <td>0.0</td>\n",
              "      <td>1.0</td>\n",
              "      <td>1.0</td>\n",
              "      <td>0.0</td>\n",
              "      <td>1.0</td>\n",
              "      <td>0.0</td>\n",
              "    </tr>\n",
              "    <tr>\n",
              "      <th>3</th>\n",
              "      <td>16</td>\n",
              "      <td>0</td>\n",
              "      <td>0</td>\n",
              "      <td>1</td>\n",
              "      <td>2</td>\n",
              "      <td>0</td>\n",
              "      <td>0</td>\n",
              "      <td>1</td>\n",
              "      <td>0</td>\n",
              "      <td>0</td>\n",
              "      <td>...</td>\n",
              "      <td>2.0</td>\n",
              "      <td>2.0</td>\n",
              "      <td>4.0</td>\n",
              "      <td>9.0</td>\n",
              "      <td>0.0</td>\n",
              "      <td>0.0</td>\n",
              "      <td>0.0</td>\n",
              "      <td>0.0</td>\n",
              "      <td>0.0</td>\n",
              "      <td>0.0</td>\n",
              "    </tr>\n",
              "    <tr>\n",
              "      <th>4</th>\n",
              "      <td>17</td>\n",
              "      <td>0</td>\n",
              "      <td>0</td>\n",
              "      <td>2</td>\n",
              "      <td>0</td>\n",
              "      <td>1</td>\n",
              "      <td>0</td>\n",
              "      <td>1</td>\n",
              "      <td>0</td>\n",
              "      <td>0</td>\n",
              "      <td>...</td>\n",
              "      <td>3.0</td>\n",
              "      <td>1.0</td>\n",
              "      <td>1.0</td>\n",
              "      <td>3.0</td>\n",
              "      <td>0.0</td>\n",
              "      <td>0.0</td>\n",
              "      <td>0.0</td>\n",
              "      <td>1.0</td>\n",
              "      <td>1.0</td>\n",
              "      <td>0.0</td>\n",
              "    </tr>\n",
              "    <tr>\n",
              "      <th>...</th>\n",
              "      <td>...</td>\n",
              "      <td>...</td>\n",
              "      <td>...</td>\n",
              "      <td>...</td>\n",
              "      <td>...</td>\n",
              "      <td>...</td>\n",
              "      <td>...</td>\n",
              "      <td>...</td>\n",
              "      <td>...</td>\n",
              "      <td>...</td>\n",
              "      <td>...</td>\n",
              "      <td>...</td>\n",
              "      <td>...</td>\n",
              "      <td>...</td>\n",
              "      <td>...</td>\n",
              "      <td>...</td>\n",
              "      <td>...</td>\n",
              "      <td>...</td>\n",
              "      <td>...</td>\n",
              "      <td>...</td>\n",
              "      <td>...</td>\n",
              "    </tr>\n",
              "    <tr>\n",
              "      <th>172829</th>\n",
              "      <td>431930</td>\n",
              "      <td>0</td>\n",
              "      <td>1</td>\n",
              "      <td>1</td>\n",
              "      <td>2</td>\n",
              "      <td>0</td>\n",
              "      <td>0</td>\n",
              "      <td>1</td>\n",
              "      <td>0</td>\n",
              "      <td>0</td>\n",
              "      <td>...</td>\n",
              "      <td>4.0</td>\n",
              "      <td>2.0</td>\n",
              "      <td>2.0</td>\n",
              "      <td>8.0</td>\n",
              "      <td>1.0</td>\n",
              "      <td>1.0</td>\n",
              "      <td>1.0</td>\n",
              "      <td>0.0</td>\n",
              "      <td>0.0</td>\n",
              "      <td>0.0</td>\n",
              "    </tr>\n",
              "    <tr>\n",
              "      <th>172830</th>\n",
              "      <td>431933</td>\n",
              "      <td>0</td>\n",
              "      <td>0</td>\n",
              "      <td>1</td>\n",
              "      <td>1</td>\n",
              "      <td>0</td>\n",
              "      <td>0</td>\n",
              "      <td>0</td>\n",
              "      <td>1</td>\n",
              "      <td>0</td>\n",
              "      <td>...</td>\n",
              "      <td>5.0</td>\n",
              "      <td>0.0</td>\n",
              "      <td>1.0</td>\n",
              "      <td>6.0</td>\n",
              "      <td>0.0</td>\n",
              "      <td>1.0</td>\n",
              "      <td>0.0</td>\n",
              "      <td>0.0</td>\n",
              "      <td>0.0</td>\n",
              "      <td>0.0</td>\n",
              "    </tr>\n",
              "    <tr>\n",
              "      <th>172831</th>\n",
              "      <td>431936</td>\n",
              "      <td>0</td>\n",
              "      <td>0</td>\n",
              "      <td>1</td>\n",
              "      <td>7</td>\n",
              "      <td>1</td>\n",
              "      <td>6</td>\n",
              "      <td>0</td>\n",
              "      <td>1</td>\n",
              "      <td>0</td>\n",
              "      <td>...</td>\n",
              "      <td>5.0</td>\n",
              "      <td>1.0</td>\n",
              "      <td>1.0</td>\n",
              "      <td>10.0</td>\n",
              "      <td>0.0</td>\n",
              "      <td>1.0</td>\n",
              "      <td>1.0</td>\n",
              "      <td>1.0</td>\n",
              "      <td>1.0</td>\n",
              "      <td>0.0</td>\n",
              "    </tr>\n",
              "    <tr>\n",
              "      <th>172832</th>\n",
              "      <td>431938</td>\n",
              "      <td>0</td>\n",
              "      <td>1</td>\n",
              "      <td>1</td>\n",
              "      <td>2</td>\n",
              "      <td>1</td>\n",
              "      <td>0</td>\n",
              "      <td>1</td>\n",
              "      <td>0</td>\n",
              "      <td>0</td>\n",
              "      <td>...</td>\n",
              "      <td>3.0</td>\n",
              "      <td>4.0</td>\n",
              "      <td>1.0</td>\n",
              "      <td>11.0</td>\n",
              "      <td>0.0</td>\n",
              "      <td>1.0</td>\n",
              "      <td>1.0</td>\n",
              "      <td>0.0</td>\n",
              "      <td>1.0</td>\n",
              "      <td>0.0</td>\n",
              "    </tr>\n",
              "    <tr>\n",
              "      <th>172833</th>\n",
              "      <td>431939</td>\n",
              "      <td>0</td>\n",
              "      <td>3</td>\n",
              "      <td>1</td>\n",
              "      <td>4</td>\n",
              "      <td>0</td>\n",
              "      <td>0</td>\n",
              "      <td>0</td>\n",
              "      <td>0</td>\n",
              "      <td>0</td>\n",
              "      <td>...</td>\n",
              "      <td>NaN</td>\n",
              "      <td>NaN</td>\n",
              "      <td>NaN</td>\n",
              "      <td>NaN</td>\n",
              "      <td>NaN</td>\n",
              "      <td>NaN</td>\n",
              "      <td>NaN</td>\n",
              "      <td>NaN</td>\n",
              "      <td>NaN</td>\n",
              "      <td>NaN</td>\n",
              "    </tr>\n",
              "  </tbody>\n",
              "</table>\n",
              "<p>172834 rows × 59 columns</p>\n",
              "</div>\n",
              "      <button class=\"colab-df-convert\" onclick=\"convertToInteractive('df-22683199-f624-4ebd-af75-5e9fc4150d64')\"\n",
              "              title=\"Convert this dataframe to an interactive table.\"\n",
              "              style=\"display:none;\">\n",
              "        \n",
              "  <svg xmlns=\"http://www.w3.org/2000/svg\" height=\"24px\"viewBox=\"0 0 24 24\"\n",
              "       width=\"24px\">\n",
              "    <path d=\"M0 0h24v24H0V0z\" fill=\"none\"/>\n",
              "    <path d=\"M18.56 5.44l.94 2.06.94-2.06 2.06-.94-2.06-.94-.94-2.06-.94 2.06-2.06.94zm-11 1L8.5 8.5l.94-2.06 2.06-.94-2.06-.94L8.5 2.5l-.94 2.06-2.06.94zm10 10l.94 2.06.94-2.06 2.06-.94-2.06-.94-.94-2.06-.94 2.06-2.06.94z\"/><path d=\"M17.41 7.96l-1.37-1.37c-.4-.4-.92-.59-1.43-.59-.52 0-1.04.2-1.43.59L10.3 9.45l-7.72 7.72c-.78.78-.78 2.05 0 2.83L4 21.41c.39.39.9.59 1.41.59.51 0 1.02-.2 1.41-.59l7.78-7.78 2.81-2.81c.8-.78.8-2.07 0-2.86zM5.41 20L4 18.59l7.72-7.72 1.47 1.35L5.41 20z\"/>\n",
              "  </svg>\n",
              "      </button>\n",
              "      \n",
              "  <style>\n",
              "    .colab-df-container {\n",
              "      display:flex;\n",
              "      flex-wrap:wrap;\n",
              "      gap: 12px;\n",
              "    }\n",
              "\n",
              "    .colab-df-convert {\n",
              "      background-color: #E8F0FE;\n",
              "      border: none;\n",
              "      border-radius: 50%;\n",
              "      cursor: pointer;\n",
              "      display: none;\n",
              "      fill: #1967D2;\n",
              "      height: 32px;\n",
              "      padding: 0 0 0 0;\n",
              "      width: 32px;\n",
              "    }\n",
              "\n",
              "    .colab-df-convert:hover {\n",
              "      background-color: #E2EBFA;\n",
              "      box-shadow: 0px 1px 2px rgba(60, 64, 67, 0.3), 0px 1px 3px 1px rgba(60, 64, 67, 0.15);\n",
              "      fill: #174EA6;\n",
              "    }\n",
              "\n",
              "    [theme=dark] .colab-df-convert {\n",
              "      background-color: #3B4455;\n",
              "      fill: #D2E3FC;\n",
              "    }\n",
              "\n",
              "    [theme=dark] .colab-df-convert:hover {\n",
              "      background-color: #434B5C;\n",
              "      box-shadow: 0px 1px 3px 1px rgba(0, 0, 0, 0.15);\n",
              "      filter: drop-shadow(0px 1px 2px rgba(0, 0, 0, 0.3));\n",
              "      fill: #FFFFFF;\n",
              "    }\n",
              "  </style>\n",
              "\n",
              "      <script>\n",
              "        const buttonEl =\n",
              "          document.querySelector('#df-22683199-f624-4ebd-af75-5e9fc4150d64 button.colab-df-convert');\n",
              "        buttonEl.style.display =\n",
              "          google.colab.kernel.accessAllowed ? 'block' : 'none';\n",
              "\n",
              "        async function convertToInteractive(key) {\n",
              "          const element = document.querySelector('#df-22683199-f624-4ebd-af75-5e9fc4150d64');\n",
              "          const dataTable =\n",
              "            await google.colab.kernel.invokeFunction('convertToInteractive',\n",
              "                                                     [key], {});\n",
              "          if (!dataTable) return;\n",
              "\n",
              "          const docLinkHtml = 'Like what you see? Visit the ' +\n",
              "            '<a target=\"_blank\" href=https://colab.research.google.com/notebooks/data_table.ipynb>data table notebook</a>'\n",
              "            + ' to learn more about interactive tables.';\n",
              "          element.innerHTML = '';\n",
              "          dataTable['output_type'] = 'display_data';\n",
              "          await google.colab.output.renderOutput(dataTable, element);\n",
              "          const docLink = document.createElement('div');\n",
              "          docLink.innerHTML = docLinkHtml;\n",
              "          element.appendChild(docLink);\n",
              "        }\n",
              "      </script>\n",
              "    </div>\n",
              "  </div>\n",
              "  "
            ]
          },
          "metadata": {},
          "execution_count": 4
        }
      ]
    },
    {
      "cell_type": "markdown",
      "metadata": {
        "_cell_guid": "c91f9c5d-05d2-478e-9dfb-1cb848bc0fe4",
        "_uuid": "8683656d1bfdef6b5c0c623597dcbc4160a0edc1",
        "id": "-JEOo8g_vGBS"
      },
      "source": [
        "<h2 id=\"t2\" style=\"margin-bottom: 18px\">The metric trap</h2>"
      ]
    },
    {
      "cell_type": "markdown",
      "source": [
        "# Applying our best traditional ML model (XGBoost)"
      ],
      "metadata": {
        "id": "Y1so5r-1fsVk"
      }
    },
    {
      "cell_type": "code",
      "metadata": {
        "_cell_guid": "0efbfb8a-76ab-4a86-b093-25271dcfcc06",
        "_uuid": "6d33cfa94ebb019b7c3065ea5f5dbe99ae52aeb1",
        "id": "1gO_ZwuovGBS",
        "colab": {
          "base_uri": "https://localhost:8080/"
        },
        "outputId": "549a596f-cff8-4973-aab2-f8872bc7e166"
      },
      "source": [
        "from xgboost import XGBClassifier\n",
        "from sklearn.model_selection import train_test_split\n",
        "from sklearn.metrics import accuracy_score\n",
        "\n",
        "# Remove 'id' and 'target' columns\n",
        "labels = df_train.columns[2:]\n",
        "df_train = df_train.dropna()\n",
        "\n",
        "X = df_train[labels]\n",
        "y = df_train['target']\n",
        "\n",
        "X_train, X_test, y_train, y_test = train_test_split(X, y, test_size=0.2, random_state=1)\n",
        "\n",
        "model = XGBClassifier()\n",
        "model.fit(X_train, y_train)\n",
        "y_pred = model.predict(X_test)\n",
        "\n",
        "accuracy = accuracy_score(y_test, y_pred)\n",
        "print(\"Accuracy: %.2f%%\" % (accuracy * 100.0))"
      ],
      "execution_count": null,
      "outputs": [
        {
          "output_type": "stream",
          "name": "stdout",
          "text": [
            "Accuracy: 96.29%\n"
          ]
        }
      ]
    },
    {
      "cell_type": "markdown",
      "metadata": {
        "_cell_guid": "c46b98a7-d500-4911-a7b5-c8fc8fbed069",
        "_uuid": "5b17ee8d3629cc346398e63269205e5b654cef80",
        "id": "1Gi47lYLvGBS"
      },
      "source": [
        "Now let's run the same code, but using only one feature (which should drastically reduce the accuracy of the classifier):"
      ]
    },
    {
      "cell_type": "code",
      "metadata": {
        "_cell_guid": "bd97a34a-8e27-4eb2-a552-fe21f860dd15",
        "_uuid": "5c7c4e3f364c664f52d04d24f948cc416d2d7e4c",
        "id": "7boHyNCXvGBT",
        "colab": {
          "base_uri": "https://localhost:8080/"
        },
        "outputId": "e44a6d5d-ce9b-496e-b750-b60e69820d50"
      },
      "source": [
        "model = XGBClassifier()\n",
        "model.fit(X_train[['ps_ind_04_cat']], y_train)\n",
        "y_pred = model.predict(X_test[['ps_ind_04_cat']])\n",
        "\n",
        "accuracy = accuracy_score(y_test, y_pred)\n",
        "print(\"Accuracy: %.2f%%\" % (accuracy * 100.0))"
      ],
      "execution_count": null,
      "outputs": [
        {
          "output_type": "stream",
          "name": "stdout",
          "text": [
            "Accuracy: 96.29%\n"
          ]
        }
      ]
    },
    {
      "cell_type": "markdown",
      "source": [
        "* with all the features - accuracy 96%\n",
        "* with only 1 feature - accuracy 96%\n",
        "* this means that Accuracy is a Bad-metric"
      ],
      "metadata": {
        "id": "ZCHUalEXgM5-"
      }
    },
    {
      "cell_type": "markdown",
      "metadata": {
        "_cell_guid": "e53e9f0f-8888-4fd9-b0d8-3bc937448162",
        "_uuid": "a176bd80315afd0f7c21fd26ab1841867a5eb7d0",
        "id": "FoALjj3WvGBT"
      },
      "source": [
        "<h2 id=\"t3\" style=\"margin-bottom: 18px\">Confusion matrix</h2>\n"
      ]
    },
    {
      "cell_type": "code",
      "metadata": {
        "_cell_guid": "394daa2b-700c-45fc-99d7-db08245a7697",
        "_uuid": "39c3256de9817f64c9ae47de5f1f78531d373015",
        "id": "vnc16eGtvGBT",
        "colab": {
          "base_uri": "https://localhost:8080/",
          "height": 331
        },
        "outputId": "3e1f1905-8a66-4fd1-93c4-c4b76223e891"
      },
      "source": [
        "from sklearn.metrics import confusion_matrix\n",
        "from matplotlib import pyplot as plt\n",
        "\n",
        "conf_mat = confusion_matrix(y_true=y_test, y_pred=y_pred)\n",
        "print('Confusion matrix:\\n', conf_mat)\n",
        "\n",
        "labels = ['Class 0', 'Class 1']\n",
        "fig = plt.figure()\n",
        "ax = fig.add_subplot(111)\n",
        "cax = ax.matshow(conf_mat, cmap=plt.cm.Blues)\n",
        "fig.colorbar(cax)\n",
        "ax.set_xticklabels([''] + labels)\n",
        "ax.set_yticklabels([''] + labels)\n",
        "plt.xlabel('Predicted')\n",
        "plt.ylabel('Expected')\n",
        "plt.show()"
      ],
      "execution_count": null,
      "outputs": [
        {
          "output_type": "stream",
          "name": "stdout",
          "text": [
            "Confusion matrix:\n",
            " [[33285     0]\n",
            " [ 1282     0]]\n"
          ]
        },
        {
          "output_type": "display_data",
          "data": {
            "text/plain": [
              "<Figure size 432x288 with 2 Axes>"
            ],
            "image/png": "[encoded data removed]"
          },
          "metadata": {
            "needs_background": "light"
          }
        }
      ]
    },
    {
      "cell_type": "markdown",
      "source": [
        "* confusion matrix shows that model(XGB) always predicts class-0 only\n",
        "* so traditional ML model fails in imbalanced dataset"
      ],
      "metadata": {
        "id": "mE983IY2gnnS"
      }
    },
    {
      "cell_type": "code",
      "metadata": {
        "colab": {
          "base_uri": "https://localhost:8080/"
        },
        "id": "z_ft0yIycFd2",
        "outputId": "4971d896-46a8-4df6-ea10-f071f7da1813"
      },
      "source": [
        "# solution for bad metric:\n",
        "from sklearn.metrics import roc_auc_score\n",
        "roc_auc_score(y_test, model.predict_proba(X_test[['ps_ind_04_cat']])[:, 1])"
      ],
      "execution_count": null,
      "outputs": [
        {
          "output_type": "execute_result",
          "data": {
            "text/plain": [
              "0.5097101522636841"
            ]
          },
          "metadata": {},
          "execution_count": 8
        }
      ]
    },
    {
      "cell_type": "markdown",
      "source": [
        "  * AUROC of 0.5 means baseline score (poor model)"
      ],
      "metadata": {
        "id": "YUo1nuNwiqvx"
      }
    },
    {
      "cell_type": "markdown",
      "metadata": {
        "id": "xIAHKFzj4BN6"
      },
      "source": [
        "# Sampling Weights (ignore this section)"
      ]
    },
    {
      "cell_type": "code",
      "metadata": {
        "colab": {
          "base_uri": "https://localhost:8080/"
        },
        "id": "y3DSgiYZ3_tf",
        "outputId": "2f07efb6-6d19-42c5-fe31-aef165b3877b"
      },
      "source": [
        "from sklearn.linear_model import LogisticRegression\n",
        "clf = LogisticRegression(random_state=0)\n",
        "clf.fit(X_train,y_train)"
      ],
      "execution_count": null,
      "outputs": [
        {
          "output_type": "stream",
          "name": "stderr",
          "text": [
            "/usr/local/lib/python3.7/dist-packages/sklearn/linear_model/_logistic.py:818: ConvergenceWarning: lbfgs failed to converge (status=1):\n",
            "STOP: TOTAL NO. of ITERATIONS REACHED LIMIT.\n",
            "\n",
            "Increase the number of iterations (max_iter) or scale the data as shown in:\n",
            "    https://scikit-learn.org/stable/modules/preprocessing.html\n",
            "Please also refer to the documentation for alternative solver options:\n",
            "    https://scikit-learn.org/stable/modules/linear_model.html#logistic-regression\n",
            "  extra_warning_msg=_LOGISTIC_SOLVER_CONVERGENCE_MSG,\n"
          ]
        },
        {
          "output_type": "execute_result",
          "data": {
            "text/plain": [
              "LogisticRegression(random_state=0)"
            ]
          },
          "metadata": {},
          "execution_count": 11
        }
      ]
    },
    {
      "cell_type": "code",
      "metadata": {
        "id": "i2nQuPOK4aaU",
        "colab": {
          "base_uri": "https://localhost:8080/"
        },
        "outputId": "34915a66-5cec-47f1-caec-ec047208ff86"
      },
      "source": [
        "print(\"Accuracy : \", clf.score(X_test,y_test) * 100, \"%\")"
      ],
      "execution_count": null,
      "outputs": [
        {
          "output_type": "stream",
          "name": "stdout",
          "text": [
            "Accuracy :  96.22043081802563 %\n"
          ]
        }
      ]
    },
    {
      "cell_type": "code",
      "metadata": {
        "id": "0SUzsPIF4mrD",
        "colab": {
          "base_uri": "https://localhost:8080/"
        },
        "outputId": "0472fe14-8a04-4af8-ac25-330dec85f26c"
      },
      "source": [
        "from sklearn.metrics import confusion_matrix, roc_auc_score\n",
        "confusion_matrix(y_test, clf.predict(X_test))\n",
        "roc_auc_score(y_test, clf.decision_function(X_test))"
      ],
      "execution_count": null,
      "outputs": [
        {
          "output_type": "execute_result",
          "data": {
            "text/plain": [
              "0.6056593530841574"
            ]
          },
          "metadata": {},
          "execution_count": 13
        }
      ]
    },
    {
      "cell_type": "code",
      "metadata": {
        "id": "qWx6M5EK4t7I",
        "colab": {
          "base_uri": "https://localhost:8080/"
        },
        "outputId": "9f98ca44-bbca-4697-e9ce-274e616ecf48"
      },
      "source": [
        "clf = LogisticRegression(class_weight = {0:5,1:95})\n",
        "clf.fit(X_train,y_train)\n",
        "print(\"Accuracy : \", clf.score(X_test,y_test) * 100, \"%\")\n",
        "confusion_matrix(y_test, clf.predict(X_test))\n",
        "roc_auc_score(y_test, clf.decision_function(X_test))"
      ],
      "execution_count": null,
      "outputs": [
        {
          "output_type": "stream",
          "name": "stdout",
          "text": [
            "Accuracy :  81.73648737941059 %\n"
          ]
        },
        {
          "output_type": "stream",
          "name": "stderr",
          "text": [
            "/usr/local/lib/python3.7/dist-packages/sklearn/linear_model/_logistic.py:818: ConvergenceWarning: lbfgs failed to converge (status=1):\n",
            "STOP: TOTAL NO. of ITERATIONS REACHED LIMIT.\n",
            "\n",
            "Increase the number of iterations (max_iter) or scale the data as shown in:\n",
            "    https://scikit-learn.org/stable/modules/preprocessing.html\n",
            "Please also refer to the documentation for alternative solver options:\n",
            "    https://scikit-learn.org/stable/modules/linear_model.html#logistic-regression\n",
            "  extra_warning_msg=_LOGISTIC_SOLVER_CONVERGENCE_MSG,\n"
          ]
        },
        {
          "output_type": "execute_result",
          "data": {
            "text/plain": [
              "0.6146244757699229"
            ]
          },
          "metadata": {},
          "execution_count": 14
        }
      ]
    },
    {
      "cell_type": "markdown",
      "metadata": {
        "_cell_guid": "b27346eb-7bf3-4360-993a-fb91e62bb937",
        "_uuid": "875f5ab3b5afcdaf3c7754ce957cb01fd32bf65c",
        "id": "r5zUHupAvGBU"
      },
      "source": [
        "<h2 id=\"t4\" style=\"margin-bottom: 18px\">Resampling</h2>\n"
      ]
    },
    {
      "cell_type": "markdown",
      "metadata": {
        "_cell_guid": "03d31a16-7b66-4096-88d7-d548db734390",
        "_uuid": "2232ac0fb192a468486b400846f88913a36957e6",
        "id": "Vv3tda6cvGBU"
      },
      "source": [
        "![](https://raw.githubusercontent.com/rafjaa/machine_learning_fecib/master/src/static/img/resampling.png)"
      ]
    },
    {
      "cell_type": "code",
      "metadata": {
        "_cell_guid": "2adbc1c9-8cdf-43d9-9a57-f24f503ba523",
        "_uuid": "f959c30be59ad1eccaed33f48a35d99be053b547",
        "collapsed": true,
        "id": "00HFtq8hvGBU",
        "colab": {
          "base_uri": "https://localhost:8080/"
        },
        "outputId": "531bca74-9e1c-426e-8b2f-c490265b91d2"
      },
      "source": [
        "# Class count\n",
        "count_class_0, count_class_1 = df_train.target.value_counts()\n",
        "\n",
        "# Divide by class\n",
        "df_class_0 = df_train[df_train['target'] == 0]\n",
        "df_class_1 = df_train[df_train['target'] == 1]\n",
        "\n",
        "count_class_0, count_class_1\n"
      ],
      "execution_count": null,
      "outputs": [
        {
          "output_type": "execute_result",
          "data": {
            "text/plain": [
              "(109331, 4173)"
            ]
          },
          "metadata": {},
          "execution_count": 15
        }
      ]
    },
    {
      "cell_type": "markdown",
      "metadata": {
        "_cell_guid": "152ea73a-aa23-4fd2-a3f5-1f55c69041ae",
        "_uuid": "b765be76a182930feb650b01dd4d1de90501bbce",
        "id": "3tnShl4KvGBV"
      },
      "source": [
        "<h2 id=\"t5\">Random under-sampling</h2>"
      ]
    },
    {
      "cell_type": "code",
      "metadata": {
        "colab": {
          "base_uri": "https://localhost:8080/"
        },
        "id": "5IakpuZzCQAm",
        "outputId": "c99917b7-1f9a-4b71-8d9d-5e2889421652"
      },
      "source": [
        "count_class_1, count_class_0"
      ],
      "execution_count": null,
      "outputs": [
        {
          "output_type": "execute_result",
          "data": {
            "text/plain": [
              "(3388, 88544)"
            ]
          },
          "metadata": {},
          "execution_count": 14
        }
      ]
    },
    {
      "cell_type": "code",
      "metadata": {
        "_cell_guid": "a0e61bc8-cef1-4828-9c5f-49c1c50c522c",
        "_uuid": "2a667d73560fb6408897835809a9d67310b45323",
        "collapsed": true,
        "id": "dc-upOgQvGBV",
        "colab": {
          "base_uri": "https://localhost:8080/",
          "height": 347
        },
        "outputId": "5a3af21b-4003-49c7-879f-862e710036a5"
      },
      "source": [
        "df_class_0_under = df_class_0.sample(count_class_1) #it will randomly sample count_class_1 number of rows from the dataframe\n",
        "df_test_under = pd.concat([df_class_0_under, df_class_1], axis=0)\n",
        "\n",
        "print('Random under-sampling:')\n",
        "print(df_test_under.target.value_counts())\n",
        "\n",
        "df_test_under.target.value_counts().plot(kind='bar', title='Count (target)');"
      ],
      "execution_count": null,
      "outputs": [
        {
          "output_type": "stream",
          "name": "stdout",
          "text": [
            "Random under-sampling:\n",
            "0    4173\n",
            "1    4173\n",
            "Name: target, dtype: int64\n"
          ]
        },
        {
          "output_type": "display_data",
          "data": {
            "image/png": "[encoded data removed]",
            "text/plain": [
              "<Figure size 432x288 with 1 Axes>"
            ]
          },
          "metadata": {
            "needs_background": "light"
          }
        }
      ]
    },
    {
      "cell_type": "markdown",
      "metadata": {
        "_cell_guid": "be656d47-e529-4533-b975-cf6de072d959",
        "_uuid": "17192fe8557463941e3abd4633b58ced0037721b",
        "id": "1XcvKXxMvGBV"
      },
      "source": [
        "<h2 id=\"t6\">Random over-sampling</h2>"
      ]
    },
    {
      "cell_type": "code",
      "metadata": {
        "_cell_guid": "8ca1ac09-5d61-4cf7-99a4-e299f4955c97",
        "_uuid": "431942c08c59f0a6ae629c3c38485bf85d001892",
        "collapsed": true,
        "id": "iIHf7_CTvGBV",
        "colab": {
          "base_uri": "https://localhost:8080/",
          "height": 347
        },
        "outputId": "51684166-23ad-46f5-9e92-a0017ee34392"
      },
      "source": [
        "df_class_1_over = df_class_1.sample(count_class_0, replace=True)\n",
        "df_test_over = pd.concat([df_class_0, df_class_1_over], axis=0)\n",
        "\n",
        "print('Random over-sampling:')\n",
        "print(df_test_over.target.value_counts())\n",
        "\n",
        "df_test_over.target.value_counts().plot(kind='bar', title='Count (target)');"
      ],
      "execution_count": null,
      "outputs": [
        {
          "output_type": "stream",
          "name": "stdout",
          "text": [
            "Random over-sampling:\n",
            "0    109331\n",
            "1    109331\n",
            "Name: target, dtype: int64\n"
          ]
        },
        {
          "output_type": "display_data",
          "data": {
            "image/png": "[encoded data removed]",
            "text/plain": [
              "<Figure size 432x288 with 1 Axes>"
            ]
          },
          "metadata": {
            "needs_background": "light"
          }
        }
      ]
    },
    {
      "cell_type": "markdown",
      "metadata": {
        "_cell_guid": "9fd90ddc-f2fc-487d-b177-0c540daf2eff",
        "_uuid": "9672899d4029b71b72897927ce464d6d7427ce77",
        "id": "4DytpupVvGBV"
      },
      "source": [
        "# <h2 id=\"t7\" style=\"margin-bottom: 18px\">Python imbalanced-learn module</h2>\n",
        "\n",
        "A number of more sophisticated resapling techniques have been proposed in the scientific literature.\n",
        "\n",
        "For example, we can cluster the records of the majority class, and do the under-sampling by removing records from each cluster, thus seeking to preserve information. In over-sampling, instead of creating exact copies of the minority class records, we can introduce small variations into those copies, creating more diverse synthetic samples.\n",
        "\n",
        "Let's apply some of these resampling techniques, using the Python library [imbalanced-learn](http://contrib.scikit-learn.org/imbalanced-learn/stable/). It is compatible with scikit-learn and is part of scikit-learn-contrib projects."
      ]
    },
    {
      "cell_type": "code",
      "metadata": {
        "_cell_guid": "fdf3f76d-aacb-4ccc-9649-736dce7a237c",
        "_uuid": "41b482ec89f13dd22e85612404300041a3e71deb",
        "collapsed": true,
        "id": "QPqXp5vUvGBW"
      },
      "source": [
        "import imblearn     # creating our own imbalanced dataset"
      ],
      "execution_count": null,
      "outputs": []
    },
    {
      "cell_type": "markdown",
      "metadata": {
        "_cell_guid": "5542beb4-6aee-401a-8bc0-2a522fbbe90b",
        "_uuid": "ff93d1707c416178c010c125319220b785dca984",
        "id": "iPVoK8bLvGBW"
      },
      "source": [
        "For ease of visualization, let's create a small unbalanced sample dataset using the <code>make_classification</code> method:"
      ]
    },
    {
      "cell_type": "code",
      "metadata": {
        "_cell_guid": "e97abde1-c324-47b5-a33c-3b8b92268b5e",
        "_uuid": "3126327b6f4b4c469701ac7a76590f5e55e17076",
        "collapsed": true,
        "id": "VwItkxE0vGBW",
        "colab": {
          "base_uri": "https://localhost:8080/",
          "height": 278
        },
        "outputId": "80248bf6-738a-4c88-8f7c-672511fc1721"
      },
      "source": [
        "from sklearn.datasets import make_classification #subpackage used for creating own classifcation dataset\n",
        "import pandas as pd\n",
        "\n",
        "X, y = make_classification(\n",
        "    n_classes=2, class_sep=0.75, weights=[0.9, 0.1],\n",
        "    n_informative=2, n_redundant=0, flip_y=0,\n",
        "    n_features=2, n_clusters_per_class=2,\n",
        "    n_samples=200, random_state=10\n",
        ")\n",
        "\n",
        "df = pd.DataFrame(X)\n",
        "df['target'] = y\n",
        "#df\n",
        "df.target.value_counts().plot(kind='bar', title='Count (target)');"
      ],
      "execution_count": null,
      "outputs": [
        {
          "output_type": "display_data",
          "data": {
            "text/plain": [
              "<Figure size 432x288 with 1 Axes>"
            ],
            "image/png": "[encoded data removed]"
          },
          "metadata": {
            "needs_background": "light"
          }
        }
      ]
    },
    {
      "cell_type": "markdown",
      "metadata": {
        "_cell_guid": "4de57657-3aed-4444-a609-318063391763",
        "_uuid": "d348b114ec1594eeefa0a67aab8b54e5b9ee2bdf",
        "id": "LxQRxH24vGBW"
      },
      "source": [
        "We will also create a 2-dimensional plot function, <code>plot_2d_space</code>, to see the data distribution:"
      ]
    },
    {
      "cell_type": "code",
      "metadata": {
        "_cell_guid": "8003c84c-fee4-45c7-b490-90a185799760",
        "_uuid": "b2a02a4ff687fb099232a0468917ec8ab737d22d",
        "collapsed": true,
        "id": "WfnQACJqvGBW"
      },
      "source": [
        "# function for plotting\n",
        "def plot_2d_space(X, y, label='Classes'):   \n",
        "    colors = ['#1F77B4', '#FF7F0E']\n",
        "    markers = ['o', 's']\n",
        "    for l, c, m in zip(np.unique(y), colors, markers):\n",
        "        plt.scatter(\n",
        "            X[y==l, 0],\n",
        "            X[y==l, 1],\n",
        "            c=c, label=l, marker=m\n",
        "        )\n",
        "    plt.title(label)\n",
        "    plt.legend(loc='upper right')\n",
        "    plt.show()"
      ],
      "execution_count": null,
      "outputs": []
    },
    {
      "cell_type": "code",
      "metadata": {
        "_cell_guid": "22b689c8-b296-4736-9aa6-46f36283f91f",
        "_uuid": "f64eff19d1304d4bd1e92d2c51a8a953cd17d7f9",
        "collapsed": true,
        "id": "NnQ13rJyvGBW",
        "colab": {
          "base_uri": "https://localhost:8080/",
          "height": 281
        },
        "outputId": "4563d1d5-5e35-46bc-ec67-29472dc31233"
      },
      "source": [
        "# plotting\n",
        "import matplotlib.pyplot as plt\n",
        "import numpy as np\n",
        "\n",
        "plot_2d_space(X, y, 'Imbalanced dataset (2 Features)')"
      ],
      "execution_count": null,
      "outputs": [
        {
          "output_type": "display_data",
          "data": {
            "text/plain": [
              "<Figure size 432x288 with 1 Axes>"
            ],
            "image/png": "[encoded data removed]"
          },
          "metadata": {
            "needs_background": "light"
          }
        }
      ]
    },
    {
      "cell_type": "markdown",
      "metadata": {
        "_cell_guid": "c3c9a24f-3cd0-4c8d-8a4d-4403c4f1a641",
        "_uuid": "0d7316b04837aa103003d667f63ecb05d43fc04e",
        "id": "iANKzSWgvGBY"
      },
      "source": [
        "<h2 id=\"#t72\">Random under-sampling and over-sampling with imbalanced-learn</h2>"
      ]
    },
    {
      "cell_type": "code",
      "metadata": {
        "_cell_guid": "28bdbe23-5eeb-4335-8c70-7a00bbac3e03",
        "_uuid": "8a56a4b118d7cae885e4c6a45fa02b2f066ece78",
        "collapsed": true,
        "id": "rgGVQLGivGBZ",
        "colab": {
          "base_uri": "https://localhost:8080/",
          "height": 545
        },
        "outputId": "f6a43c89-d72f-4de4-fdaa-f9d3f72de7cc"
      },
      "source": [
        "from imblearn.under_sampling import RandomUnderSampler\n",
        "\n",
        "rus = RandomUnderSampler() #Intialise the model\n",
        "X_rus, y_rus = rus.fit_resample(X, y) #resampling the data \n",
        "\n",
        "#print('Removed indexes:', id_rus)\n",
        "\n",
        "plot_2d_space(X, y, 'Imbalanced dataset (2 Features)')\n",
        "plot_2d_space(X_rus, y_rus, 'Random under-sampling')"
      ],
      "execution_count": null,
      "outputs": [
        {
          "output_type": "display_data",
          "data": {
            "text/plain": [
              "<Figure size 432x288 with 1 Axes>"
            ],
            "image/png": "[encoded data removed]"
          },
          "metadata": {
            "needs_background": "light"
          }
        },
        {
          "output_type": "display_data",
          "data": {
            "text/plain": [
              "<Figure size 432x288 with 1 Axes>"
            ],
            "image/png": "[encoded data removed]"
          },
          "metadata": {
            "needs_background": "light"
          }
        }
      ]
    },
    {
      "cell_type": "code",
      "metadata": {
        "_cell_guid": "c8eaed30-339e-4d23-a0f2-fbd687b217ea",
        "_uuid": "be5b90300f0a25bbe7d1822503e7fc5185a906b2",
        "collapsed": true,
        "scrolled": true,
        "id": "HQD6M5sGvGBZ",
        "colab": {
          "base_uri": "https://localhost:8080/",
          "height": 545
        },
        "outputId": "18463586-7042-4638-b1c9-50df5ca247ad"
      },
      "source": [
        "from imblearn.over_sampling import RandomOverSampler\n",
        "\n",
        "ros = RandomOverSampler() #Initialis the model \n",
        "X_ros, y_ros = ros.fit_resample(X, y) #Fit the model\n",
        "\n",
        "#print(X_ros.shape[0] - X.shape[0], 'new random picked points')\n",
        "\n",
        "plot_2d_space(X_ros, y_ros, 'Random over-sampling')\n",
        "plot_2d_space(X, y, 'Original')"
      ],
      "execution_count": null,
      "outputs": [
        {
          "output_type": "display_data",
          "data": {
            "text/plain": [
              "<Figure size 432x288 with 1 Axes>"
            ],
            "image/png": "[encoded data removed]"
          },
          "metadata": {
            "needs_background": "light"
          }
        },
        {
          "output_type": "display_data",
          "data": {
            "text/plain": [
              "<Figure size 432x288 with 1 Axes>"
            ],
            "image/png": "[encoded data removed]"
          },
          "metadata": {
            "needs_background": "light"
          }
        }
      ]
    },
    {
      "cell_type": "markdown",
      "source": [
        "* since the datapoints are duplicated, they overlap. So the graph looks similar"
      ],
      "metadata": {
        "id": "_2jz9KyBlPYu"
      }
    },
    {
      "cell_type": "code",
      "metadata": {
        "colab": {
          "base_uri": "https://localhost:8080/"
        },
        "id": "mC4gPsYp3UwM",
        "outputId": "9e60e9d2-afaa-4b3a-df92-e937914c5ca3"
      },
      "source": [
        "y_ros.sum(), y.sum(), y_rus.sum()"
      ],
      "execution_count": null,
      "outputs": [
        {
          "output_type": "execute_result",
          "data": {
            "text/plain": [
              "(180, 20, 20)"
            ]
          },
          "metadata": {},
          "execution_count": 16
        }
      ]
    },
    {
      "cell_type": "markdown",
      "metadata": {
        "_cell_guid": "3156134f-539b-48b8-b9d0-64095fe50c1c",
        "_uuid": "b3f9ac47a157d9096a626360408859b795299c24",
        "id": "jRzhTUEUvGBZ"
      },
      "source": [
        "<h2 id=\"t8\" style=\"margin-bottom: 18px\">Under-sampling: Tomek links</h2>\n",
        "\n",
        "Tomek links are pairs of very close instances, but of opposite classes. Removing the instances of the majority class of each pair increases the space between the two classes, facilitating the classification process."
      ]
    },
    {
      "cell_type": "markdown",
      "metadata": {
        "_cell_guid": "f131f7e0-007d-406e-9e1c-db352d2d8433",
        "_uuid": "85c01c0e6baa1b984585c1db34c5ab0315cbf8ff",
        "id": "xlxsP5RRvGBa"
      },
      "source": [
        "![](https://raw.githubusercontent.com/rafjaa/machine_learning_fecib/master/src/static/img/tomek.png?v=2)"
      ]
    },
    {
      "cell_type": "markdown",
      "metadata": {
        "_cell_guid": "45bf057b-369c-4f37-a5ac-7417ad79253d",
        "_uuid": "733a86ccfaaabf701fb2d1f9997c732b19630df3",
        "id": "Bl-aHxM3vGBa"
      },
      "source": [
        "In the code below, we'll use <code>ratio='majority'</code> to resample the majority class."
      ]
    },
    {
      "cell_type": "code",
      "metadata": {
        "_cell_guid": "58f13562-c0c6-4247-bf40-c6dec764ff3a",
        "_uuid": "0c93b1e11359f4d1eb873280b61aa0f54ee8bd36",
        "collapsed": true,
        "id": "RSyXnfEHvGBa",
        "colab": {
          "base_uri": "https://localhost:8080/",
          "height": 545
        },
        "outputId": "f7c6c211-63b1-4959-83bd-b11fb6e00ece"
      },
      "source": [
        "from imblearn.under_sampling import TomekLinks\n",
        "\n",
        "tl = TomekLinks(sampling_strategy='majority')  # delete the majority datapoint\n",
        "X_tl, y_tl = tl.fit_resample(X, y)\n",
        "\n",
        "#print('Removed indexes:', id_tl)\n",
        "\n",
        "plot_2d_space(X_tl, y_tl, 'Tomek links under-sampling')\n",
        "plot_2d_space(X, y, 'Original')"
      ],
      "execution_count": null,
      "outputs": [
        {
          "output_type": "display_data",
          "data": {
            "text/plain": [
              "<Figure size 432x288 with 1 Axes>"
            ],
            "image/png": "[encoded data removed]"
          },
          "metadata": {
            "needs_background": "light"
          }
        },
        {
          "output_type": "display_data",
          "data": {
            "text/plain": [
              "<Figure size 432x288 with 1 Axes>"
            ],
            "image/png": "[encoded data removed]"
          },
          "metadata": {
            "needs_background": "light"
          }
        }
      ]
    },
    {
      "cell_type": "markdown",
      "source": [
        "* still there is no clear boundary\n",
        "* thats why we never use tomek links alone. \n",
        "* we use tomek links + cluster centroids"
      ],
      "metadata": {
        "id": "TPRxhimKmPmC"
      }
    },
    {
      "cell_type": "code",
      "metadata": {
        "colab": {
          "base_uri": "https://localhost:8080/"
        },
        "id": "lendPORi5inH",
        "outputId": "2c92c5de-1c7c-40ec-a311-4d566f4fcea5"
      },
      "source": [
        "y_tl.sum()/y_tl.shape[0], y.sum()/y.shape[0]"
      ],
      "execution_count": null,
      "outputs": [
        {
          "output_type": "execute_result",
          "data": {
            "text/plain": [
              "(0.10362694300518134, 0.1)"
            ]
          },
          "metadata": {},
          "execution_count": 17
        }
      ]
    },
    {
      "cell_type": "markdown",
      "source": [
        "* 10% to 10.3%\n",
        "* very slight improvement only"
      ],
      "metadata": {
        "id": "5Rk-tBYpmuS9"
      }
    },
    {
      "cell_type": "markdown",
      "metadata": {
        "_cell_guid": "fef831bd-ecec-429c-aef2-5d51d1188820",
        "_uuid": "b4e75fffe4c91afcd63705aa7bcb16b6fd9f6b1f",
        "id": "H-AHdbUGvGBa"
      },
      "source": [
        "<h2 id=\"t9\" style=\"margin-bottom: 18px\">Under-sampling: Cluster Centroids</h2>"
      ]
    },
    {
      "cell_type": "code",
      "metadata": {
        "_cell_guid": "91001b3e-fe5c-4dc1-8501-395e1218cba1",
        "_uuid": "ad088a08f4f9e0b646571950928c7fff47f52f98",
        "collapsed": true,
        "id": "rG4MTlwavGBa",
        "colab": {
          "base_uri": "https://localhost:8080/",
          "height": 545
        },
        "outputId": "1834976e-0972-4a86-f2b3-2266b762ce40"
      },
      "source": [
        "from imblearn.under_sampling import ClusterCentroids\n",
        "\n",
        "cc = ClusterCentroids(sampling_strategy={0: 20})    # in class-0, take 20 datapoints only\n",
        "X_cc, y_cc = cc.fit_resample(X, y)\n",
        "\n",
        "plot_2d_space(X_cc, y_cc, 'Cluster Centroids under-sampling')\n",
        "#plot_2d_space(X, y, 'Original')\n",
        "plot_2d_space(X_rus, y_rus, 'Random under-sampling')"
      ],
      "execution_count": null,
      "outputs": [
        {
          "output_type": "display_data",
          "data": {
            "text/plain": [
              "<Figure size 432x288 with 1 Axes>"
            ],
            "image/png": "[encoded data removed]"
          },
          "metadata": {
            "needs_background": "light"
          }
        },
        {
          "output_type": "display_data",
          "data": {
            "text/plain": [
              "<Figure size 432x288 with 1 Axes>"
            ],
            "image/png": "[encoded data removed]"
          },
          "metadata": {
            "needs_background": "light"
          }
        }
      ]
    },
    {
      "cell_type": "code",
      "metadata": {
        "id": "F7OZwC-a62zM"
      },
      "source": [
        "y_cc.sum()/y_cc.shape[0]\n",
        "#y_cc"
      ],
      "execution_count": null,
      "outputs": []
    },
    {
      "cell_type": "markdown",
      "metadata": {
        "_cell_guid": "78adb7b4-a7e1-4d10-9cc2-6bf6477c63df",
        "_uuid": "b3741f5c14acdbd76e25725e2d73df5f2cb0a239",
        "id": "eT1Q1bQUvGBb"
      },
      "source": [
        "<h2 id=\"t10\" style=\"margin-bottom: 18px\">Over-sampling: SMOTE</h2>\n",
        "\n",
        "SMOTE (Synthetic Minority Oversampling TEchnique) consists of synthesizing elements for the minority class, based on those that already exist. It works randomly picingk a point from the minority class and computing the k-nearest neighbors for this point. The synthetic points are added between the chosen point and its neighbors."
      ]
    },
    {
      "cell_type": "markdown",
      "metadata": {
        "_cell_guid": "5162646f-da82-4877-b6d8-25a8be7f42e9",
        "_uuid": "51697e21b7cdb4064dda18aa24e6ecf039b1132b",
        "id": "KDnCGa2HvGBb"
      },
      "source": [
        " ![](https://raw.githubusercontent.com/rafjaa/machine_learning_fecib/master/src/static/img/smote.png)"
      ]
    },
    {
      "cell_type": "markdown",
      "metadata": {
        "_cell_guid": "9c0a0d78-8427-437e-aa24-ffe2bd12edb2",
        "_uuid": "9393851db694c178faf93615bf05addedf5d678b",
        "id": "joLcVAUUvGBb"
      },
      "source": [
        "We'll use <code>ratio='minority'</code> to resample the minority class."
      ]
    },
    {
      "cell_type": "code",
      "metadata": {
        "_cell_guid": "97e9f84e-0951-4037-b882-57545f9d967a",
        "_uuid": "74457c951aabf5b16be1c4282c15d9cb2034f26b",
        "collapsed": true,
        "id": "c4LKAn7JvGBb",
        "colab": {
          "base_uri": "https://localhost:8080/",
          "height": 545
        },
        "outputId": "a294123f-84b3-4b50-bc76-4540b2383252"
      },
      "source": [
        "from imblearn.over_sampling import SMOTE\n",
        "\n",
        "plot_2d_space(X, y, 'Original Data')\n",
        "\n",
        "smote = SMOTE(sampling_strategy='minority')   # increase my minority class\n",
        "X_sm, y_sm = smote.fit_resample(X, y)\n",
        "\n",
        "plot_2d_space(X_sm, y_sm, 'SMOTE over-sampling')"
      ],
      "execution_count": null,
      "outputs": [
        {
          "output_type": "display_data",
          "data": {
            "text/plain": [
              "<Figure size 432x288 with 1 Axes>"
            ],
            "image/png": "[encoded data removed]"
          },
          "metadata": {
            "needs_background": "light"
          }
        },
        {
          "output_type": "display_data",
          "data": {
            "text/plain": [
              "<Figure size 432x288 with 1 Axes>"
            ],
            "image/png": "[encoded data removed]"
          },
          "metadata": {
            "needs_background": "light"
          }
        }
      ]
    },
    {
      "cell_type": "markdown",
      "metadata": {
        "_cell_guid": "20c3cdbb-a7c1-45a5-8dd9-84cff7d9af31",
        "_uuid": "d7ebbeb741ad6469cb7ebbced3499acd3c49856a",
        "id": "3v7c7nlcvGBb"
      },
      "source": [
        "SOLUTION : \n",
        "<h2 id=\"t11\" style=\"margin-bottom: 18px\">Over-sampling followed by under-sampling</h2>\n",
        "\n",
        "Now, we will do a combination of over-sampling and under-sampling, using the SMOTE and Tomek links techniques:"
      ]
    },
    {
      "cell_type": "code",
      "metadata": {
        "_cell_guid": "ab732fe1-45c1-4163-b70e-7a2ce2dbe42f",
        "_uuid": "b740fbaf8677522d3b3040e2f47e3b954dc56877",
        "collapsed": true,
        "id": "c8Bw-IYhvGBb",
        "colab": {
          "base_uri": "https://localhost:8080/",
          "height": 545
        },
        "outputId": "29ea0fa3-478a-4dcd-b9be-7fb14ee2b617"
      },
      "source": [
        "from imblearn.combine import SMOTETomek    # oversample + undersample\n",
        "\n",
        "plot_2d_space(X, y, 'Original Data')\n",
        "\n",
        "smt = SMOTETomek(sampling_strategy='all')\n",
        "X_smt, y_smt = smt.fit_resample(X, y)\n",
        "\n",
        "plot_2d_space(X_smt, y_smt, 'SMOTE + Tomek links')"
      ],
      "execution_count": null,
      "outputs": [
        {
          "output_type": "display_data",
          "data": {
            "text/plain": [
              "<Figure size 432x288 with 1 Axes>"
            ],
            "image/png": "[encoded data removed]"
          },
          "metadata": {
            "needs_background": "light"
          }
        },
        {
          "output_type": "display_data",
          "data": {
            "text/plain": [
              "<Figure size 432x288 with 1 Axes>"
            ],
            "image/png": "[encoded data removed]"
          },
          "metadata": {
            "needs_background": "light"
          }
        }
      ]
    },
    {
      "cell_type": "code",
      "source": [
        "from sklearn.linear_model import LogisticRegression\n",
        "from sklearn.metrics import roc_auc_score\n",
        "\n",
        "lr = LogisticRegression()\n",
        "lr.fit(X,y)\n",
        "lr.score(X,y)\n",
        "\n",
        "print( \"AUROC on original dataset : \", roc_auc_score(y, lr.predict_proba(X)[:, 1]))\n",
        "\n",
        "lr = LogisticRegression()\n",
        "lr.fit(X_smt,y_smt)\n",
        "lr.score(X_smt,y_smt)\n",
        "\n",
        "print( \"AUROC on the sampled dataset : \",roc_auc_score(y, lr.predict_proba(X)[:, 1]))"
      ],
      "metadata": {
        "colab": {
          "base_uri": "https://localhost:8080/"
        },
        "id": "J3UDUi1mnB5P",
        "outputId": "a4866054-c9a7-42a0-d83a-38ab68f7be18"
      },
      "execution_count": null,
      "outputs": [
        {
          "output_type": "stream",
          "name": "stdout",
          "text": [
            "AUROC on original dataset :  0.9513888888888888\n",
            "AUROM on the sampled dataset :  0.9508333333333333\n"
          ]
        }
      ]
    },
    {
      "cell_type": "markdown",
      "source": [
        "* in this case, there is no big difference in the auroc score"
      ],
      "metadata": {
        "id": "TE4qoQnHtj0Z"
      }
    }
  ]
}